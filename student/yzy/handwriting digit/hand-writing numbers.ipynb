{
 "cells": [
  {
   "cell_type": "code",
   "execution_count": 10,
   "metadata": {},
   "outputs": [],
   "source": [
    "import tensorflow as tf\n",
    "import numpy as np\n",
    "import matplotlib.pyplot as plt\n",
    "plt.rcParams['figure.figsize'] = (7,7) # Make the figures a bit bigger\n",
    "\n",
    "from keras.datasets import mnist\n",
    "from keras.models import Sequential\n",
    "from keras.layers.core import Dense, Dropout, Activation\n",
    "from keras.utils import np_utils"
   ]
  },
  {
   "cell_type": "code",
   "execution_count": 11,
   "metadata": {},
   "outputs": [],
   "source": [
    "nb_classes = 12\n",
    "\n",
    "# the data, shuffled and split between tran and test sets\n",
    "(X_train, y_train), (X_test, y_test) = mnist.load_data()"
   ]
  },
  {
   "cell_type": "code",
   "execution_count": 12,
   "metadata": {},
   "outputs": [],
   "source": [
    "X_train = X_train.reshape(60000, 784)\n",
    "X_test = X_test.reshape(10000, 784)\n",
    "X_train = X_train.astype('float32')\n",
    "X_test = X_test.astype('float32')\n",
    "X_train /= 255\n",
    "X_test /= 255\n",
    "\n",
    "linestr=''\n",
    "\n",
    "\n",
    "Y_train = np_utils.to_categorical(y_train, nb_classes)\n",
    "Y_test = np_utils.to_categorical(y_test, nb_classes)"
   ]
  },
  {
   "cell_type": "code",
   "execution_count": 13,
   "metadata": {},
   "outputs": [
    {
     "name": "stdout",
     "output_type": "stream",
     "text": [
      "Train on 60000 samples, validate on 10000 samples\n",
      "Epoch 1/4\n",
      "60000/60000 [==============================] - 11s 181us/step - loss: 0.2508 - val_loss: 0.1229\n",
      "Epoch 2/4\n",
      "60000/60000 [==============================] - 10s 174us/step - loss: 0.1011 - val_loss: 0.0911\n",
      "Epoch 3/4\n",
      "60000/60000 [==============================] - 10s 172us/step - loss: 0.0722 - val_loss: 0.0700\n",
      "Epoch 4/4\n",
      "60000/60000 [==============================] - 11s 175us/step - loss: 0.0559 - val_loss: 0.0726\n"
     ]
    },
    {
     "data": {
      "text/plain": [
       "<keras.callbacks.callbacks.History at 0x23a3f7462e8>"
      ]
     },
     "execution_count": 13,
     "metadata": {},
     "output_type": "execute_result"
    }
   ],
   "source": [
    "model = Sequential()\n",
    "model.add(Dense(512, input_shape=(784,)))\n",
    "model.add(Activation('relu')) # An \"activation\" is just a non-linear function applied to the output\n",
    "                              # of the layer above. Here, with a \"rectified linear unit\",\n",
    "                              # we clamp all values below 0 to 0.\n",
    "                           \n",
    "model.add(Dropout(0.2))   # Dropout helps protect the model from memorizing or \"overfitting\" the training data\n",
    "model.add(Dense(512))\n",
    "model.add(Activation('relu'))\n",
    "model.add(Dropout(0.2))\n",
    "model.add(Dense(nb_classes))\n",
    "model.add(Activation('softmax')) # This special \"softmax\" activation among other things,\n",
    "                                 # ensures the output is a valid probaility distribution, that is\n",
    "                                 # that its values are all non-negative and sum to 1.\n",
    "        \n",
    "model.compile(loss='categorical_crossentropy', optimizer='adam')\n",
    "\n",
    "model.fit(X_train, Y_train,\n",
    "          batch_size=128, epochs=4,verbose=1,\n",
    "          validation_data=(X_test, Y_test))"
   ]
  },
  {
   "cell_type": "code",
   "execution_count": 14,
   "metadata": {},
   "outputs": [
    {
     "name": "stdout",
     "output_type": "stream",
     "text": [
      "10000/10000 [==============================] - 1s 73us/step\n",
      "0.07255508142614271\n"
     ]
    }
   ],
   "source": [
    "score = model.evaluate(X_test, Y_test,verbose=1)\n",
    "print(score)"
   ]
  },
  {
   "cell_type": "code",
   "execution_count": 15,
   "metadata": {},
   "outputs": [
    {
     "name": "stdout",
     "output_type": "stream",
     "text": [
      "[7 2 1 ... 4 5 6]\n",
      "10000\n",
      "[ True  True  True ...  True  True  True]\n",
      "(array([   0,    1,    2, ..., 9997, 9998, 9999], dtype=int64),)\n",
      "correct [   0    1    2 ... 9997 9998 9999]\n",
      "incorrect [ 149  233  247  321  340  381  445  447  495  582  583  646  691  717\n",
      "  720  740  844  877  924  947  951 1014 1039 1112 1128 1181 1226 1232\n",
      " 1242 1247 1289 1299 1319 1328 1393 1433 1500 1522 1530 1549 1553 1609\n",
      " 1621 1681 1737 1782 1790 1800 1850 1878 1901 1987 2004 2035 2044 2053\n",
      " 2070 2093 2098 2109 2118 2135 2182 2291 2299 2326 2369 2387 2408 2488\n",
      " 2526 2607 2635 2648 2654 2720 2810 2877 2896 2921 2927 2939 2953 2990\n",
      " 3005 3023 3062 3073 3251 3388 3405 3475 3490 3503 3520 3549 3550 3558\n",
      " 3559 3567 3597 3762 3808 3811 3818 3853 3869 3893 3943 3968 3985 4063\n",
      " 4065 4075 4140 4154 4176 4201 4224 4248 4271 4289 4360 4369 4425 4497\n",
      " 4500 4536 4601 4615 4639 4671 4731 4751 4761 4807 4823 4876 4880 4956\n",
      " 4978 5331 5450 5634 5642 5676 5734 5749 5936 5937 5955 5972 5973 5982\n",
      " 6028 6045 6059 6166 6172 6532 6555 6571 6574 6597 6621 6625 6632 6651\n",
      " 6735 6755 6783 6847 7216 7472 7823 7886 8059 8246 8311 8325 8408 8522\n",
      " 8527 9009 9015 9024 9280 9316 9587 9634 9664 9669 9679 9698 9700 9729\n",
      " 9755 9768 9770 9792 9808 9839 9904 9944]\n"
     ]
    }
   ],
   "source": [
    "# The predict_classes function outputs the highest probability class\n",
    "# according to the trained classifier for each input example.\n",
    "predicted_classes = model.predict_classes(X_test)\n",
    "\n",
    "print(predicted_classes)\n",
    "print(len(predicted_classes))\n",
    "\n",
    "# Check which items we got right / wrong\n",
    "predictyes=(predicted_classes == y_test)\n",
    "print(predictyes)\n",
    "\n",
    "predictnum=np.nonzero(predictyes)\n",
    "print(predictnum)\n",
    "\n",
    "correct_indices = np.nonzero(predicted_classes == y_test)[0]\n",
    "incorrect_indices = np.nonzero(predicted_classes != y_test)[0]\n",
    "\n",
    "print(\"correct\",correct_indices)\n",
    "print(\"incorrect\",incorrect_indices)"
   ]
  },
  {
   "cell_type": "code",
   "execution_count": 16,
   "metadata": {},
   "outputs": [
    {
     "data": {
      "image/png": "[encoded data removed]",
      "text/plain": [
       "<Figure size 504x504 with 9 Axes>"
      ]
     },
     "metadata": {
      "needs_background": "light"
     },
     "output_type": "display_data"
    },
    {
     "data": {
      "image/png": "[encoded data removed]",
      "text/plain": [
       "<Figure size 504x504 with 9 Axes>"
      ]
     },
     "metadata": {
      "needs_background": "light"
     },
     "output_type": "display_data"
    }
   ],
   "source": [
    "plt.figure()\n",
    "for i, correct in enumerate(correct_indices[:9]):\n",
    "    plt.subplot(3,3,i+1)\n",
    "    plt.imshow(X_test[correct].reshape(28,28), cmap='gray', interpolation='none')\n",
    "    plt.title(\"Predicted {}, Class {}\".format(predicted_classes[correct], y_test[correct]))\n",
    "    \n",
    "plt.figure()\n",
    "for i, incorrect in enumerate(incorrect_indices[:9]):\n",
    "    plt.subplot(3,3,i+1)\n",
    "    plt.imshow(X_test[incorrect].reshape(28,28), cmap='gray', interpolation='none')\n",
    "    plt.title(\"Predicted {}, Class {}\".format(predicted_classes[incorrect], y_test[incorrect]))"
   ]
  },
  {
   "cell_type": "code",
   "execution_count": 33,
   "metadata": {},
   "outputs": [],
   "source": [
    "import cv2\n",
    "import numpy as np\n",
    "\n",
    "img=cv2.imread(\"handwritings.jpg\")\n",
    "#cv2.imshow(\"mw\",img)\n",
    "#cv2.waitKey(0)\n",
    "W=1100\n",
    "L=1500\n",
    "NW=780\n",
    "NL=1200\n",
    "X0=100\n",
    "Y0=200\n",
    "for i in range(2):\n",
    "    for j in range(4):\n",
    "        imdig=img[X0+L*i:X0+L*i+NL,Y0+W*j:Y0+W*j+NW]\n",
    "        cv2.imshow(\"imdig\",imdig)\n",
    "        filename=\"hn\"+str(i)+str(j)+\".jpg\"\n",
    "        cv2.rectangle(img,(Y0+W*j,X0+L*i),(Y0+W*j+NW,X0+L*i+NL),(0,255,0),3)        \n",
    "        cv2.imwrite(filename,imdig)\n",
    "        cv2.waitKey(0)\n",
    "cv2.imshow(\"img\",img)\n",
    "cv2.waitKey()\n",
    "cv2.destroyAllWindows()"
   ]
  },
  {
   "cell_type": "code",
   "execution_count": 34,
   "metadata": {},
   "outputs": [
    {
     "name": "stdout",
     "output_type": "stream",
     "text": [
      "hn28inv00.jpg\n",
      "hn28inv01.jpg\n",
      "hn28inv02.jpg\n",
      "hn28inv03.jpg\n",
      "hn28inv10.jpg\n",
      "hn28inv11.jpg\n",
      "hn28inv12.jpg\n",
      "hn28inv13.jpg\n"
     ]
    }
   ],
   "source": [
    "import cv2  \n",
    "\n",
    "for i in range(2):\n",
    "    for j in range(4):\n",
    "        filename=\"hn\"+str(i)+str(j)+\".jpg\"\n",
    "        img = cv2.imread(filename)\n",
    "        GrayImage=cv2.cvtColor(img,cv2.COLOR_BGR2GRAY)  \n",
    "        ret,thresh1=cv2.threshold(GrayImage,120,255,cv2.THRESH_BINARY)  \n",
    "        resized_image = cv2.resize(thresh1, (28, 28)) \n",
    "        invimg = ~resized_image\n",
    "        outputfile=\"hn28inv\"+str(i)+str(j)+\".jpg\"\n",
    "        print(outputfile)\n",
    "        cv2.imwrite(outputfile,invimg)"
   ]
  },
  {
   "cell_type": "code",
   "execution_count": 36,
   "metadata": {},
   "outputs": [
    {
     "name": "stdout",
     "output_type": "stream",
     "text": [
      "28\n",
      "28\n"
     ]
    }
   ],
   "source": [
    "import cv2\n",
    "img = cv2.imread(\"hn28inv11.jpg\")\n",
    "print(len(img))\n",
    "print(len(img[0]))\n",
    "cv2.imshow(\"hninv\",img)\n",
    "cv2.waitKey(0)\n",
    "cv2.destroyAllWindows()"
   ]
  },
  {
   "cell_type": "code",
   "execution_count": 37,
   "metadata": {},
   "outputs": [
    {
     "name": "stdout",
     "output_type": "stream",
     "text": [
      "x to be predicted original shape (28, 28, 3)\n",
      "x to be predicted original shape (28, 28)\n"
     ]
    },
    {
     "data": {
      "text/plain": [
       "<matplotlib.image.AxesImage at 0x23a25898978>"
      ]
     },
     "execution_count": 37,
     "metadata": {},
     "output_type": "execute_result"
    },
    {
     "data": {
      "image/png": "[encoded data removed]",
      "text/plain": [
       "<Figure size 504x504 with 1 Axes>"
      ]
     },
     "metadata": {
      "needs_background": "light"
     },
     "output_type": "display_data"
    }
   ],
   "source": [
    "print(\"x to be predicted original shape\", img.shape)\n",
    "GrayImg=cv2.cvtColor(img,cv2.COLOR_BGR2GRAY)\n",
    "print(\"x to be predicted original shape\", GrayImg.shape)\n",
    "plt.imshow(GrayImg, cmap='gray', interpolation='none')"
   ]
  },
  {
   "cell_type": "code",
   "execution_count": 38,
   "metadata": {},
   "outputs": [
    {
     "name": "stdout",
     "output_type": "stream",
     "text": [
      "Predicating matrix shape (1, 784)\n"
     ]
    }
   ],
   "source": [
    "X_pred = GrayImg.reshape(1, 784)\n",
    "X_pred = X_pred.astype('float32')\n",
    "X_pred /= 255\n",
    "print(\"Predicating matrix shape\", X_pred.shape)"
   ]
  },
  {
   "cell_type": "code",
   "execution_count": 39,
   "metadata": {},
   "outputs": [
    {
     "name": "stdout",
     "output_type": "stream",
     "text": [
      "[6]\n"
     ]
    }
   ],
   "source": [
    "predicted_classes = model.predict_classes(X_pred)\n",
    "\n",
    "print(predicted_classes)"
   ]
  },
  {
   "cell_type": "code",
   "execution_count": 40,
   "metadata": {},
   "outputs": [
    {
     "name": "stdout",
     "output_type": "stream",
     "text": [
      "(8, 28, 28)\n"
     ]
    }
   ],
   "source": [
    "import cv2\n",
    "import numpy\n",
    "\n",
    "X_pred = numpy.zeros(shape=(8,28,28))\n",
    "index=0\n",
    "\n",
    "for i in range(2):\n",
    "    for j in range(4):\n",
    "        filename=\"hn28inv\"+str(i)+str(j)+\".jpg\"\n",
    "        img = cv2.imread(filename)\n",
    "        GrayImage=cv2.cvtColor(img,cv2.COLOR_BGR2GRAY)\n",
    "        X_pred[index]=cv2.resize(GrayImage, (28, 28))\n",
    "        index+=1\n",
    "print(X_pred.shape)"
   ]
  },
  {
   "cell_type": "code",
   "execution_count": 41,
   "metadata": {},
   "outputs": [
    {
     "data": {
      "image/png": "[encoded data removed]",
      "text/plain": [
       "<Figure size 504x504 with 8 Axes>"
      ]
     },
     "metadata": {
      "needs_background": "light"
     },
     "output_type": "display_data"
    }
   ],
   "source": [
    "for i in range(8):\n",
    "    plt.subplot(2,4,i+1)\n",
    "    plt.imshow(X_pred[i], cmap='gray', interpolation='none')"
   ]
  },
  {
   "cell_type": "code",
   "execution_count": 42,
   "metadata": {},
   "outputs": [
    {
     "name": "stdout",
     "output_type": "stream",
     "text": [
      "Testing matrix shape (8, 784)\n",
      "[1 2 5 5 5 6 1 5]\n"
     ]
    }
   ],
   "source": [
    "X_pred = X_pred.reshape(8, 784)\n",
    "X_pred = X_pred.astype('float32')\n",
    "X_pred /= 255\n",
    "print(\"Testing matrix shape\", X_pred.shape)\n",
    "predicted_classes = model.predict_classes(X_pred)\n",
    "print(predicted_classes)"
   ]
  },
  {
   "cell_type": "code",
   "execution_count": 43,
   "metadata": {},
   "outputs": [],
   "source": [
    "model.save(\"ministxkn.h5\")"
   ]
  },
  {
   "cell_type": "code",
   "execution_count": 44,
   "metadata": {},
   "outputs": [],
   "source": [
    "del model"
   ]
  },
  {
   "cell_type": "code",
   "execution_count": 45,
   "metadata": {},
   "outputs": [
    {
     "name": "stdout",
     "output_type": "stream",
     "text": [
      "model not found, you have deleted it on purpose.\n"
     ]
    }
   ],
   "source": [
    "try:\n",
    "    predicted_classes = model.predict_classes(X_pred)\n",
    "except:\n",
    "    print(\"model not found, you have deleted it on purpose.\")"
   ]
  },
  {
   "cell_type": "code",
   "execution_count": 46,
   "metadata": {},
   "outputs": [],
   "source": [
    "from keras.models import load_model\n",
    "\n",
    "model = load_model('ministxkn.h5')"
   ]
  },
  {
   "cell_type": "code",
   "execution_count": 47,
   "metadata": {},
   "outputs": [
    {
     "name": "stdout",
     "output_type": "stream",
     "text": [
      "[1 2 5 5 5 6 1 5]\n"
     ]
    }
   ],
   "source": [
    "predicted_classes = model.predict_classes(X_pred)\n",
    "print(predicted_classes)"
   ]
  },
  {
   "cell_type": "code",
   "execution_count": 51,
   "metadata": {},
   "outputs": [
    {
     "name": "stdout",
     "output_type": "stream",
     "text": [
      "(60000, 784)\n",
      "(8, 784)\n",
      "[[0.         0.         0.         ... 0.         0.         0.        ]\n",
      " [0.00392157 0.00392157 0.         ... 0.         0.         0.        ]\n",
      " [0.         0.         0.         ... 0.         0.         0.        ]\n",
      " ...\n",
      " [0.         0.         0.         ... 0.         0.         0.        ]\n",
      " [0.         0.00392157 0.00392157 ... 0.         0.         0.        ]\n",
      " [0.         0.         0.         ... 0.         0.         0.        ]]\n",
      "[[0.         0.         0.         ... 0.         0.         0.        ]\n",
      " [0.00392157 0.00392157 0.         ... 0.         0.         0.        ]\n",
      " [0.         0.         0.         ... 0.         0.         0.        ]\n",
      " ...\n",
      " [0.         0.         0.         ... 0.         0.         0.        ]\n",
      " [0.         0.00392157 0.00392157 ... 0.         0.         0.        ]\n",
      " [0.         0.         0.         ... 0.         0.         0.        ]]\n",
      "[[0.         0.         0.         ... 0.         0.         0.        ]\n",
      " [0.00392157 0.00392157 0.         ... 0.         0.         0.        ]\n",
      " [0.         0.         0.         ... 0.         0.         0.        ]\n",
      " ...\n",
      " [0.         0.         0.         ... 0.         0.         0.        ]\n",
      " [0.         0.00392157 0.00392157 ... 0.         0.         0.        ]\n",
      " [0.         0.         0.         ... 0.         0.         0.        ]]\n",
      "[1 2 3 4 5 6 7 8 1 4]\n",
      "[[0. 1. 0. 0. 0. 0. 0. 0. 0. 0. 0. 0.]\n",
      " [0. 0. 1. 0. 0. 0. 0. 0. 0. 0. 0. 0.]\n",
      " [0. 0. 0. 1. 0. 0. 0. 0. 0. 0. 0. 0.]\n",
      " [0. 0. 0. 0. 1. 0. 0. 0. 0. 0. 0. 0.]\n",
      " [0. 0. 0. 0. 0. 1. 0. 0. 0. 0. 0. 0.]\n",
      " [0. 0. 0. 0. 0. 0. 1. 0. 0. 0. 0. 0.]\n",
      " [0. 0. 0. 0. 0. 0. 0. 1. 0. 0. 0. 0.]\n",
      " [0. 0. 0. 0. 0. 0. 0. 0. 1. 0. 0. 0.]\n",
      " [0. 1. 0. 0. 0. 0. 0. 0. 0. 0. 0. 0.]\n",
      " [0. 0. 0. 0. 1. 0. 0. 0. 0. 0. 0. 0.]]\n"
     ]
    }
   ],
   "source": [
    "print(X_train.shape)\n",
    "print(X_pred.shape)\n",
    "\n",
    "print(X_train[0:8])\n",
    "print(X_pred[0:8])\n",
    "\n",
    "X_train[0:8]=X_pred\n",
    "\n",
    "print(X_train[0:8])\n",
    "\n",
    "for i in range(8):\n",
    "    y_train[i]=i+1\n",
    "    \n",
    "\n",
    "print(y_train[0:10])\n",
    "\n",
    "Y_train = np_utils.to_categorical(y_train, nb_classes)\n",
    "\n",
    "\n",
    "print(Y_train[0:10])"
   ]
  },
  {
   "cell_type": "code",
   "execution_count": 52,
   "metadata": {},
   "outputs": [
    {
     "name": "stdout",
     "output_type": "stream",
     "text": [
      "Train on 60000 samples, validate on 10000 samples\n",
      "Epoch 1/4\n",
      "60000/60000 [==============================] - 10s 174us/step - loss: 0.0280 - val_loss: 0.0782\n",
      "Epoch 2/4\n",
      "60000/60000 [==============================] - 10s 172us/step - loss: 0.0242 - val_loss: 0.0761\n",
      "Epoch 3/4\n",
      "60000/60000 [==============================] - 10s 171us/step - loss: 0.0262 - val_loss: 0.0643\n",
      "Epoch 4/4\n",
      "60000/60000 [==============================] - 10s 171us/step - loss: 0.0214 - val_loss: 0.0747\n"
     ]
    },
    {
     "data": {
      "text/plain": [
       "<keras.callbacks.callbacks.History at 0x23a3fe905f8>"
      ]
     },
     "execution_count": 52,
     "metadata": {},
     "output_type": "execute_result"
    }
   ],
   "source": [
    "model.fit(X_train, Y_train,\n",
    "          batch_size=128, epochs=4,verbose=1,\n",
    "          validation_data=(X_test, Y_test))"
   ]
  },
  {
   "cell_type": "code",
   "execution_count": 53,
   "metadata": {},
   "outputs": [
    {
     "name": "stdout",
     "output_type": "stream",
     "text": [
      "[1 2 3 4 5 6 7 8]\n"
     ]
    }
   ],
   "source": [
    "predicted_classes = model.predict_classes(X_pred)\n",
    "print(predicted_classes)"
   ]
  },
  {
   "cell_type": "code",
   "execution_count": 54,
   "metadata": {},
   "outputs": [
    {
     "name": "stdout",
     "output_type": "stream",
     "text": [
      "[[0. 1. 0. 0. 0. 0. 0. 0. 0. 0. 0. 0.]\n",
      " [0. 0. 1. 0. 0. 0. 0. 0. 0. 0. 0. 0.]\n",
      " [0. 0. 0. 1. 0. 0. 0. 0. 0. 0. 0. 0.]\n",
      " [0. 0. 0. 0. 1. 0. 0. 0. 0. 0. 0. 0.]\n",
      " [0. 0. 0. 0. 0. 1. 0. 0. 0. 0. 0. 0.]\n",
      " [0. 0. 0. 0. 0. 0. 1. 0. 0. 0. 0. 0.]\n",
      " [0. 0. 0. 0. 0. 0. 0. 1. 0. 0. 0. 0.]\n",
      " [0. 0. 0. 0. 0. 0. 0. 0. 1. 0. 0. 0.]\n",
      " [0. 1. 0. 0. 0. 0. 0. 0. 0. 0. 0. 0.]\n",
      " [0. 0. 0. 0. 1. 0. 0. 0. 0. 0. 0. 0.]]\n",
      "Train on 60000 samples, validate on 10000 samples\n",
      "Epoch 1/4\n",
      "60000/60000 [==============================] - 10s 171us/step - loss: 0.0204 - val_loss: 0.0881\n",
      "Epoch 2/4\n",
      "60000/60000 [==============================] - 10s 171us/step - loss: 0.0204 - val_loss: 0.0683\n",
      "Epoch 3/4\n",
      "60000/60000 [==============================] - 10s 175us/step - loss: 0.0187 - val_loss: 0.0707\n",
      "Epoch 4/4\n",
      "60000/60000 [==============================] - 10s 175us/step - loss: 0.0150 - val_loss: 0.0760\n"
     ]
    },
    {
     "data": {
      "text/plain": [
       "<keras.callbacks.callbacks.History at 0x23a3fe63470>"
      ]
     },
     "execution_count": 54,
     "metadata": {},
     "output_type": "execute_result"
    }
   ],
   "source": [
    "Y_train = np_utils.to_categorical(y_train, nb_classes)\n",
    "\n",
    "print(Y_train[0:10])\n",
    "\n",
    "\n",
    "model.fit(X_train, Y_train,\n",
    "          batch_size=128, epochs=4,verbose=1,\n",
    "          validation_data=(X_test, Y_test))"
   ]
  },
  {
   "cell_type": "code",
   "execution_count": 55,
   "metadata": {},
   "outputs": [
    {
     "name": "stdout",
     "output_type": "stream",
     "text": [
      "[1 2 3 4 5 6 7 8]\n"
     ]
    }
   ],
   "source": [
    "predicted_classes = model.predict_classes(X_pred)\n",
    "print(predicted_classes)"
   ]
  },
  {
   "cell_type": "code",
   "execution_count": null,
   "metadata": {},
   "outputs": [],
   "source": []
  }
 ],
 "metadata": {
  "kernelspec": {
   "display_name": "Python 3",
   "language": "python",
   "name": "python3"
  },
  "language_info": {
   "codemirror_mode": {
    "name": "ipython",
    "version": 3
   },
   "file_extension": ".py",
   "mimetype": "text/x-python",
   "name": "python",
   "nbconvert_exporter": "python",
   "pygments_lexer": "ipython3",
   "version": "3.6.7"
  }
 },
 "nbformat": 4,
 "nbformat_minor": 2
}
